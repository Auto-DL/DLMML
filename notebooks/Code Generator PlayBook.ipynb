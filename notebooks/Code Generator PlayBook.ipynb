{
 "cells": [
  {
   "cell_type": "code",
   "execution_count": 13,
   "metadata": {},
   "outputs": [],
   "source": [
    "import json\n",
    "from pprint import pprint"
   ]
  },
  {
   "cell_type": "code",
   "execution_count": 22,
   "metadata": {},
   "outputs": [],
   "source": [
    "my_json = \\\n",
    "\"\"\"\n",
    "{\n",
    "  \n",
    "  \"conv2d\": {\n",
    "     \"filters\": 32, \n",
    "     \"kernel_size\": [3, 3], \n",
    "     \"activation\": \"relu\", \n",
    "     \"padding\": \"same\", \n",
    "     \"input_shape\": [200, 200, 3]\n",
    "     },\n",
    "  \n",
    "  \"mp2\": {\n",
    "     \"pool_size\": [2, 2]\n",
    "     }\n",
    "\n",
    "}\n",
    "\"\"\""
   ]
  },
  {
   "cell_type": "code",
   "execution_count": 23,
   "metadata": {},
   "outputs": [
    {
     "data": {
      "text/plain": [
       "'\\n{\\n \"conv2d\": {\\n     \"filters\": 32, \\n     \"kernel_size\": [3, 3], \\n     \"activation\": \"relu\", \\n     \"padding\": \"same\", \\n     \"input_shape\": [200, 200, 3]\\n     }, \\n \"mp2\": {\\n     \"pool_size\": [2, 2]\\n     }\\n}\\n'"
      ]
     },
     "execution_count": 23,
     "metadata": {},
     "output_type": "execute_result"
    }
   ],
   "source": [
    "my_json"
   ]
  },
  {
   "cell_type": "code",
   "execution_count": 24,
   "metadata": {},
   "outputs": [],
   "source": [
    "inputs = json.loads(my_json)"
   ]
  },
  {
   "cell_type": "code",
   "execution_count": 25,
   "metadata": {},
   "outputs": [
    {
     "data": {
      "text/plain": [
       "{'conv2d': {'filters': 32,\n",
       "  'kernel_size': [3, 3],\n",
       "  'activation': 'relu',\n",
       "  'padding': 'same',\n",
       "  'input_shape': [200, 200, 3]},\n",
       " 'mp2': {'pool_size': [2, 2]}}"
      ]
     },
     "execution_count": 25,
     "metadata": {},
     "output_type": "execute_result"
    }
   ],
   "source": [
    "inputs"
   ]
  },
  {
   "cell_type": "markdown",
   "metadata": {},
   "source": [
    "  "
   ]
  },
  {
   "cell_type": "code",
   "execution_count": 31,
   "metadata": {},
   "outputs": [],
   "source": [
    "symbol_table = {\n",
    "    'conv2d' : 'model.add(Conv2D())',\n",
    "    'mp2' : 'model.add(MaxPooling2D())',\n",
    "    'dense': 'model.add(Dense())'\n",
    "}"
   ]
  },
  {
   "cell_type": "code",
   "execution_count": 28,
   "metadata": {},
   "outputs": [],
   "source": [
    "def get_imports():\n",
    "    \"\"\"\n",
    "    imports the needed modules \n",
    "    \"\"\"\n",
    "    try:\n",
    "        return \\\n",
    "        \"\"\"\n",
    "        import sys\n",
    "        from matplotlib import pyplot\n",
    "        from keras.utils import to_categorical\n",
    "        from keras.models import Sequential\n",
    "        from keras.layers import Conv2D\n",
    "        from keras.layers import MaxPooling2D\n",
    "        from keras.layers import Dense\n",
    "        from keras.layers import Flatten\n",
    "        from keras.optimizers import SGD\n",
    "        from keras.preprocessing.image import ImageDataGenerator\n",
    "        \"\"\"\n",
    "    except Exception as e:\n",
    "        print(e)"
   ]
  },
  {
   "cell_type": "code",
   "execution_count": 30,
   "metadata": {},
   "outputs": [],
   "source": [
    "def init_sequential():\n",
    "    \"\"\"\n",
    "    initializes the model\n",
    "    \"\"\"\n",
    "    try:\n",
    "        get_imports()\n",
    "        \n",
    "        return 'model = Sequential()'\n",
    "    except Exception as e:\n",
    "        print(e)"
   ]
  },
  {
   "cell_type": "code",
   "execution_count": 49,
   "metadata": {},
   "outputs": [],
   "source": [
    "def parse(inputs):\n",
    "    \"\"\"\n",
    "    Parser which adds layers (mostly)\n",
    "    \"\"\"\n",
    "    try:\n",
    "        # init_sequential()\n",
    "        input_dict = json.loads(inputs)\n",
    "        print(\"\\nGot these layers\")\n",
    "        generated_code = ''\n",
    "\n",
    "        #TODO: Take care of indentation and stuff if making functions\n",
    "        #TODO: Ordering in dict (work around -> ordered_dict)\n",
    "\n",
    "        for layer in input_dict.keys():\n",
    "            curr_layer = symbol_table[layer]\n",
    "            print(curr_layer,'99999999999999999999')\n",
    "            args = str(input_dict[layer])\n",
    "            curr_layer = curr_layer[:-2] + args[1:-1] + curr_layer[-2:]\n",
    "            generated_code += curr_layer + '\\n'\n",
    "        print()\n",
    "        return generated_code\n",
    "    except Exception as e:\n",
    "        print(e)\n"
   ]
  },
  {
   "cell_type": "code",
   "execution_count": 50,
   "metadata": {},
   "outputs": [
    {
     "name": "stdout",
     "output_type": "stream",
     "text": [
      "\n",
      "Got these layers\n",
      "model.add(Conv2D()) 99999999999999999999\n",
      "model.add(MaxPooling2D()) 99999999999999999999\n",
      "\n",
      "model.add(Conv2D('filters': 32, 'kernel_size': [3, 3], 'activation': 'relu', 'padding': 'same', 'input_shape': [200, 200, 3]))\n",
      "model.add(MaxPooling2D('pool_size': [2, 2]))\n",
      "\n"
     ]
    }
   ],
   "source": [
    "print(parse(my_json))"
   ]
  },
  {
   "cell_type": "code",
   "execution_count": null,
   "metadata": {},
   "outputs": [],
   "source": []
  },
  {
   "cell_type": "code",
   "execution_count": null,
   "metadata": {},
   "outputs": [],
   "source": []
  },
  {
   "cell_type": "markdown",
   "metadata": {},
   "source": [
    " "
   ]
  },
  {
   "cell_type": "markdown",
   "metadata": {},
   "source": [
    "## Work Pad ahead (no code below this)\n"
   ]
  },
  {
   "cell_type": "markdown",
   "metadata": {},
   "source": [
    "_tip : take a \"md\" crash course to write good markdown code xD_   "
   ]
  },
  {
   "cell_type": "markdown",
   "metadata": {},
   "source": [
    "## Json Schema\n",
    "\n",
    "### Model Structure\n",
    "- Use model.add() method\n",
    "- Front end drop down for each layer\n",
    "\n",
    "<!-- \n",
    "====================\n",
    "padding [v]\n",
    "        - same\n",
    "        - opt2\n",
    "        - opt3\n",
    "====================\n",
    " -->\n",
    "\n",
    "\n",
    "## Work Distribution\n",
    "\n",
    "\n",
    "_Do the following steps for both torch and keras_\n",
    "\n",
    "\n",
    "#### Preprocessing + Data input (Tanvi)\n",
    "- os module\n",
    "- raw images :D\n",
    "- keras...\n",
    "- data/\n",
    "    /train\n",
    "        /category1\n",
    "        /category2\n",
    "    /test\n",
    "        /category1\n",
    "        /category2\n",
    "\n",
    "#### Preparation of Symbol Table and Schema\n",
    "\n",
    " \n",
    "\n",
    "#### Adding layers\n",
    "\n",
    "- _/\n",
    "\n",
    "#### Compile and execute (Raj)\n",
    "\n",
    "- \n",
    "\n"
   ]
  }
 ],
 "metadata": {
  "kernelspec": {
   "display_name": "Python 3",
   "language": "python",
   "name": "python3"
  },
  "language_info": {
   "codemirror_mode": {
    "name": "ipython",
    "version": 3
   },
   "file_extension": ".py",
   "mimetype": "text/x-python",
   "name": "python",
   "nbconvert_exporter": "python",
   "pygments_lexer": "ipython3",
   "version": "3.7.6"
  }
 },
 "nbformat": 4,
 "nbformat_minor": 4
}
